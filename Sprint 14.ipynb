{
 "cells": [
  {
   "cell_type": "markdown",
   "id": "42bc7abb",
   "metadata": {},
   "source": [
    "## Introduction"
   ]
  },
  {
   "cell_type": "markdown",
   "id": "02d8e098",
   "metadata": {},
   "source": [
    "In the telecommunications sector, identifying effective and ineffective operators is essential to ensuring service quality and user satisfaction. Analyzing operational metrics, such as the total number of calls made and their duration, allows for evaluating provider performance and detecting potential service gaps. This project applied statistical tests to test hypotheses related to operator efficiency, using nonparametric tools to address the lack of normality in the data. The results obtained provide an objective basis for decision-making aimed at improving service and optimizing resources in the sector."
   ]
  },
  {
   "cell_type": "markdown",
   "id": "c7f1cc35",
   "metadata": {},
   "source": [
    "## Exploratory Data Analysis"
   ]
  },
  {
   "cell_type": "markdown",
   "id": "e9b8abf0",
   "metadata": {},
   "source": [
    "### Data preparation"
   ]
  },
  {
   "cell_type": "code",
   "execution_count": 1,
   "id": "3e0b4803",
   "metadata": {},
   "outputs": [],
   "source": [
    "import pandas as pd"
   ]
  },
  {
   "cell_type": "code",
   "execution_count": 2,
   "id": "33b6cfdb",
   "metadata": {},
   "outputs": [],
   "source": [
    "clients = pd.read_csv(\"telecom_clients_us.csv\")\n",
    "df = pd.read_csv(\"telecom_dataset_us.csv\")"
   ]
  },
  {
   "cell_type": "code",
   "execution_count": 3,
   "id": "9214736c",
   "metadata": {},
   "outputs": [
    {
     "name": "stdout",
     "output_type": "stream",
     "text": [
      "<class 'pandas.core.frame.DataFrame'>\n",
      "RangeIndex: 53902 entries, 0 to 53901\n",
      "Data columns (total 9 columns):\n",
      " #   Column               Non-Null Count  Dtype  \n",
      "---  ------               --------------  -----  \n",
      " 0   user_id              53902 non-null  int64  \n",
      " 1   date                 53902 non-null  object \n",
      " 2   direction            53902 non-null  object \n",
      " 3   internal             53785 non-null  object \n",
      " 4   operator_id          45730 non-null  float64\n",
      " 5   is_missed_call       53902 non-null  bool   \n",
      " 6   calls_count          53902 non-null  int64  \n",
      " 7   call_duration        53902 non-null  int64  \n",
      " 8   total_call_duration  53902 non-null  int64  \n",
      "dtypes: bool(1), float64(1), int64(4), object(3)\n",
      "memory usage: 3.3+ MB\n",
      "None \n",
      "\n",
      "<class 'pandas.core.frame.DataFrame'>\n",
      "RangeIndex: 732 entries, 0 to 731\n",
      "Data columns (total 3 columns):\n",
      " #   Column       Non-Null Count  Dtype \n",
      "---  ------       --------------  ----- \n",
      " 0   user_id      732 non-null    int64 \n",
      " 1   tariff_plan  732 non-null    object\n",
      " 2   date_start   732 non-null    object\n",
      "dtypes: int64(1), object(2)\n",
      "memory usage: 17.3+ KB\n",
      "None\n"
     ]
    }
   ],
   "source": [
    "print(df.info(),\"\\n\")\n",
    "print(clients.info())"
   ]
  },
  {
   "cell_type": "code",
   "execution_count": 4,
   "id": "839dfb4a",
   "metadata": {},
   "outputs": [
    {
     "data": {
      "text/html": [
       "<div>\n",
       "<style scoped>\n",
       "    .dataframe tbody tr th:only-of-type {\n",
       "        vertical-align: middle;\n",
       "    }\n",
       "\n",
       "    .dataframe tbody tr th {\n",
       "        vertical-align: top;\n",
       "    }\n",
       "\n",
       "    .dataframe thead th {\n",
       "        text-align: right;\n",
       "    }\n",
       "</style>\n",
       "<table border=\"1\" class=\"dataframe\">\n",
       "  <thead>\n",
       "    <tr style=\"text-align: right;\">\n",
       "      <th></th>\n",
       "      <th>user_id</th>\n",
       "      <th>date</th>\n",
       "      <th>direction</th>\n",
       "      <th>internal</th>\n",
       "      <th>operator_id</th>\n",
       "      <th>is_missed_call</th>\n",
       "      <th>calls_count</th>\n",
       "      <th>call_duration</th>\n",
       "      <th>total_call_duration</th>\n",
       "    </tr>\n",
       "  </thead>\n",
       "  <tbody>\n",
       "    <tr>\n",
       "      <th>28386</th>\n",
       "      <td>167180</td>\n",
       "      <td>2019-10-24 00:00:00+03:00</td>\n",
       "      <td>out</td>\n",
       "      <td>True</td>\n",
       "      <td>905932.0</td>\n",
       "      <td>True</td>\n",
       "      <td>2</td>\n",
       "      <td>0</td>\n",
       "      <td>2</td>\n",
       "    </tr>\n",
       "    <tr>\n",
       "      <th>43943</th>\n",
       "      <td>168021</td>\n",
       "      <td>2019-10-25 00:00:00+03:00</td>\n",
       "      <td>out</td>\n",
       "      <td>False</td>\n",
       "      <td>939222.0</td>\n",
       "      <td>True</td>\n",
       "      <td>7</td>\n",
       "      <td>0</td>\n",
       "      <td>177</td>\n",
       "    </tr>\n",
       "    <tr>\n",
       "      <th>751</th>\n",
       "      <td>166405</td>\n",
       "      <td>2019-08-18 00:00:00+03:00</td>\n",
       "      <td>out</td>\n",
       "      <td>False</td>\n",
       "      <td>882686.0</td>\n",
       "      <td>True</td>\n",
       "      <td>5</td>\n",
       "      <td>0</td>\n",
       "      <td>10</td>\n",
       "    </tr>\n",
       "    <tr>\n",
       "      <th>16564</th>\n",
       "      <td>166916</td>\n",
       "      <td>2019-10-22 00:00:00+03:00</td>\n",
       "      <td>in</td>\n",
       "      <td>False</td>\n",
       "      <td>906406.0</td>\n",
       "      <td>False</td>\n",
       "      <td>12</td>\n",
       "      <td>1236</td>\n",
       "      <td>1493</td>\n",
       "    </tr>\n",
       "    <tr>\n",
       "      <th>49373</th>\n",
       "      <td>168187</td>\n",
       "      <td>2019-11-25 00:00:00+03:00</td>\n",
       "      <td>in</td>\n",
       "      <td>False</td>\n",
       "      <td>937762.0</td>\n",
       "      <td>False</td>\n",
       "      <td>2</td>\n",
       "      <td>175</td>\n",
       "      <td>193</td>\n",
       "    </tr>\n",
       "    <tr>\n",
       "      <th>18392</th>\n",
       "      <td>166974</td>\n",
       "      <td>2019-10-18 00:00:00+03:00</td>\n",
       "      <td>in</td>\n",
       "      <td>False</td>\n",
       "      <td>900352.0</td>\n",
       "      <td>False</td>\n",
       "      <td>9</td>\n",
       "      <td>821</td>\n",
       "      <td>974</td>\n",
       "    </tr>\n",
       "    <tr>\n",
       "      <th>4753</th>\n",
       "      <td>166511</td>\n",
       "      <td>2019-10-10 00:00:00+03:00</td>\n",
       "      <td>out</td>\n",
       "      <td>False</td>\n",
       "      <td>891410.0</td>\n",
       "      <td>False</td>\n",
       "      <td>44</td>\n",
       "      <td>4582</td>\n",
       "      <td>5043</td>\n",
       "    </tr>\n",
       "    <tr>\n",
       "      <th>27197</th>\n",
       "      <td>167175</td>\n",
       "      <td>2019-09-24 00:00:00+03:00</td>\n",
       "      <td>out</td>\n",
       "      <td>False</td>\n",
       "      <td>905844.0</td>\n",
       "      <td>True</td>\n",
       "      <td>4</td>\n",
       "      <td>0</td>\n",
       "      <td>78</td>\n",
       "    </tr>\n",
       "    <tr>\n",
       "      <th>27280</th>\n",
       "      <td>167175</td>\n",
       "      <td>2019-10-12 00:00:00+03:00</td>\n",
       "      <td>out</td>\n",
       "      <td>False</td>\n",
       "      <td>905842.0</td>\n",
       "      <td>False</td>\n",
       "      <td>5</td>\n",
       "      <td>905</td>\n",
       "      <td>970</td>\n",
       "    </tr>\n",
       "    <tr>\n",
       "      <th>18594</th>\n",
       "      <td>166975</td>\n",
       "      <td>2019-09-05 00:00:00+03:00</td>\n",
       "      <td>in</td>\n",
       "      <td>True</td>\n",
       "      <td>NaN</td>\n",
       "      <td>True</td>\n",
       "      <td>4</td>\n",
       "      <td>0</td>\n",
       "      <td>62</td>\n",
       "    </tr>\n",
       "  </tbody>\n",
       "</table>\n",
       "</div>"
      ],
      "text/plain": [
       "       user_id                       date direction internal  operator_id  \\\n",
       "28386   167180  2019-10-24 00:00:00+03:00       out     True     905932.0   \n",
       "43943   168021  2019-10-25 00:00:00+03:00       out    False     939222.0   \n",
       "751     166405  2019-08-18 00:00:00+03:00       out    False     882686.0   \n",
       "16564   166916  2019-10-22 00:00:00+03:00        in    False     906406.0   \n",
       "49373   168187  2019-11-25 00:00:00+03:00        in    False     937762.0   \n",
       "18392   166974  2019-10-18 00:00:00+03:00        in    False     900352.0   \n",
       "4753    166511  2019-10-10 00:00:00+03:00       out    False     891410.0   \n",
       "27197   167175  2019-09-24 00:00:00+03:00       out    False     905844.0   \n",
       "27280   167175  2019-10-12 00:00:00+03:00       out    False     905842.0   \n",
       "18594   166975  2019-09-05 00:00:00+03:00        in     True          NaN   \n",
       "\n",
       "       is_missed_call  calls_count  call_duration  total_call_duration  \n",
       "28386            True            2              0                    2  \n",
       "43943            True            7              0                  177  \n",
       "751              True            5              0                   10  \n",
       "16564           False           12           1236                 1493  \n",
       "49373           False            2            175                  193  \n",
       "18392           False            9            821                  974  \n",
       "4753            False           44           4582                 5043  \n",
       "27197            True            4              0                   78  \n",
       "27280           False            5            905                  970  \n",
       "18594            True            4              0                   62  "
      ]
     },
     "execution_count": 4,
     "metadata": {},
     "output_type": "execute_result"
    }
   ],
   "source": [
    "df.sample(10)"
   ]
  },
  {
   "cell_type": "code",
   "execution_count": 5,
   "id": "f21bda1c",
   "metadata": {},
   "outputs": [
    {
     "data": {
      "text/html": [
       "<div>\n",
       "<style scoped>\n",
       "    .dataframe tbody tr th:only-of-type {\n",
       "        vertical-align: middle;\n",
       "    }\n",
       "\n",
       "    .dataframe tbody tr th {\n",
       "        vertical-align: top;\n",
       "    }\n",
       "\n",
       "    .dataframe thead th {\n",
       "        text-align: right;\n",
       "    }\n",
       "</style>\n",
       "<table border=\"1\" class=\"dataframe\">\n",
       "  <thead>\n",
       "    <tr style=\"text-align: right;\">\n",
       "      <th></th>\n",
       "      <th>user_id</th>\n",
       "      <th>tariff_plan</th>\n",
       "      <th>date_start</th>\n",
       "    </tr>\n",
       "  </thead>\n",
       "  <tbody>\n",
       "    <tr>\n",
       "      <th>0</th>\n",
       "      <td>166713</td>\n",
       "      <td>A</td>\n",
       "      <td>2019-08-15</td>\n",
       "    </tr>\n",
       "    <tr>\n",
       "      <th>1</th>\n",
       "      <td>166901</td>\n",
       "      <td>A</td>\n",
       "      <td>2019-08-23</td>\n",
       "    </tr>\n",
       "    <tr>\n",
       "      <th>2</th>\n",
       "      <td>168527</td>\n",
       "      <td>A</td>\n",
       "      <td>2019-10-29</td>\n",
       "    </tr>\n",
       "    <tr>\n",
       "      <th>3</th>\n",
       "      <td>167097</td>\n",
       "      <td>A</td>\n",
       "      <td>2019-09-01</td>\n",
       "    </tr>\n",
       "    <tr>\n",
       "      <th>4</th>\n",
       "      <td>168193</td>\n",
       "      <td>A</td>\n",
       "      <td>2019-10-16</td>\n",
       "    </tr>\n",
       "  </tbody>\n",
       "</table>\n",
       "</div>"
      ],
      "text/plain": [
       "   user_id tariff_plan  date_start\n",
       "0   166713           A  2019-08-15\n",
       "1   166901           A  2019-08-23\n",
       "2   168527           A  2019-10-29\n",
       "3   167097           A  2019-09-01\n",
       "4   168193           A  2019-10-16"
      ]
     },
     "execution_count": 5,
     "metadata": {},
     "output_type": "execute_result"
    }
   ],
   "source": [
    "clients.head()"
   ]
  },
  {
   "cell_type": "markdown",
   "id": "fcb19469",
   "metadata": {},
   "source": [
    "### Data conversion"
   ]
  },
  {
   "cell_type": "code",
   "execution_count": null,
   "id": "ce012bbf",
   "metadata": {},
   "outputs": [],
   "source": [
    "#Convert columns of the data frame df\n",
    "df [\"date\"] = pd.to_datetime(df [\"date\"], errors= \"coerce\").dt.date #Since it is observed that the schedule was incorrect, only the date was left.\n",
    "df [\"operator_id\"] = df [\"operator_id\"].astype(\"object\")"
   ]
  },
  {
   "cell_type": "code",
   "execution_count": null,
   "id": "c64456ed",
   "metadata": {},
   "outputs": [],
   "source": [
    "#Convert client values\n",
    "clients [\"user_id\"] = clients [\"user_id\"].astype(\"object\")\n",
    "clients [\"date_start\"] = pd.to_datetime(clients [\"date_start\"], errors= \"coerce\")"
   ]
  },
  {
   "cell_type": "markdown",
   "id": "c4a420e2",
   "metadata": {},
   "source": [
    "### Handling missing values"
   ]
  },
  {
   "cell_type": "code",
   "execution_count": 8,
   "id": "3284ae06",
   "metadata": {},
   "outputs": [],
   "source": [
    "df_merged = df.merge(clients, on=\"user_id\", how=\"left\")\n"
   ]
  },
  {
   "cell_type": "code",
   "execution_count": null,
   "id": "6e989ed0",
   "metadata": {},
   "outputs": [],
   "source": [
    "#Null operator data is eliminated since it is the one that will be evaluated\n",
    "df_operadores = df_merged.dropna(subset=[\"operator_id\"]).copy()\n",
    "df_operadores[\"operator_id\"] = df_operadores[\"operator_id\"].astype(int)"
   ]
  },
  {
   "cell_type": "markdown",
   "id": "20ced9a5",
   "metadata": {},
   "source": [
    "### Handling duplicate values"
   ]
  },
  {
   "cell_type": "code",
   "execution_count": null,
   "id": "54b34a39",
   "metadata": {},
   "outputs": [
    {
     "name": "stdout",
     "output_type": "stream",
     "text": [
      "4184\n"
     ]
    }
   ],
   "source": [
    "print(df_operadores.duplicated().sum()) #We will not delete them because we do not have a record of the time of day the call was made."
   ]
  },
  {
   "cell_type": "markdown",
   "id": "f28e6194",
   "metadata": {},
   "source": [
    "### Nuevas variables "
   ]
  },
  {
   "cell_type": "code",
   "execution_count": null,
   "id": "f21063fb",
   "metadata": {},
   "outputs": [],
   "source": [
    "#This data frame is created to group and evaluate the figures of our operators.\n",
    "df_operadores = df_merged.groupby([\"operator_id\", \"tariff_plan\", \"date\"]).agg({\n",
    "    \"calls_count\": \"sum\",\n",
    "    \"call_duration\": \"mean\",\n",
    "    \"total_call_duration\": \"mean\",\n",
    "    \"is_missed_call\": \"sum\"\n",
    "}).reset_index()\n"
   ]
  },
  {
   "cell_type": "code",
   "execution_count": null,
   "id": "c1d1846f",
   "metadata": {},
   "outputs": [],
   "source": [
    "#Average per call\n",
    "df_operadores[\"avg_call_duration\"] = df_operadores[\"call_duration\"] / df_operadores[\"calls_count\"]\n",
    "df_operadores[\"avg_total_call_duration\"] = df_operadores[\"total_call_duration\"] / df_operadores[\"calls_count\"]"
   ]
  },
  {
   "cell_type": "code",
   "execution_count": null,
   "id": "98476bd1",
   "metadata": {},
   "outputs": [],
   "source": [
    "#Missed calls\n",
    "df_operadores[\"missed_call_rate\"] = df_operadores[\"is_missed_call\"] / df_operadores[\"calls_count\"]\n"
   ]
  },
  {
   "cell_type": "code",
   "execution_count": null,
   "id": "54c6e268",
   "metadata": {},
   "outputs": [
    {
     "name": "stdout",
     "output_type": "stream",
     "text": [
      "operator_id\n",
      "924572.0    1.0\n",
      "914626.0    1.0\n",
      "954284.0    1.0\n",
      "928282.0    1.0\n",
      "914272.0    1.0\n",
      "           ... \n",
      "891906.0    0.0\n",
      "895140.0    0.0\n",
      "895170.0    0.0\n",
      "969268.0    0.0\n",
      "884524.0    0.0\n",
      "Name: missed_call_rate, Length: 1092, dtype: float64\n"
     ]
    }
   ],
   "source": [
    "# Average percentage of missed calls per operator\n",
    "print(df_operadores.groupby('operator_id')['missed_call_rate'].mean().sort_values(ascending=False))"
   ]
  },
  {
   "cell_type": "code",
   "execution_count": 15,
   "id": "7309c3b6",
   "metadata": {},
   "outputs": [
    {
     "name": "stdout",
     "output_type": "stream",
     "text": [
      "1092\n"
     ]
    }
   ],
   "source": [
    "num_operadores = df_operadores['operator_id'].nunique()\n",
    "print(num_operadores)"
   ]
  },
  {
   "cell_type": "markdown",
   "id": "592df208",
   "metadata": {},
   "source": [
    "There are 1,092 people working, of whom, on average, only one call has been missed. Overall, most operators are \"efficient.\" We'll take other metrics into account."
   ]
  },
  {
   "cell_type": "code",
   "execution_count": 16,
   "id": "b019e4fb",
   "metadata": {},
   "outputs": [],
   "source": [
    "df_operadores[\"ineficaz\"] = df_operadores[\"missed_call_rate\"] > 0.10 \n"
   ]
  },
  {
   "cell_type": "markdown",
   "id": "7811e71e",
   "metadata": {},
   "source": [
    "To measure operator inefficiency, we created the variable \"inefficiency\" by filtering out those operators who lose at least 10% of their calls."
   ]
  },
  {
   "cell_type": "code",
   "execution_count": null,
   "id": "fede659f",
   "metadata": {},
   "outputs": [
    {
     "name": "stdout",
     "output_type": "stream",
     "text": [
      "Operadores ineficaces: 739\n"
     ]
    }
   ],
   "source": [
    "# How many inefficient operators are there?\n",
    "num_ineficaces = df_operadores[df_operadores[\"ineficaz\"]].operator_id.nunique()\n",
    "print(f\"Inefficient operators: {num_ineficaces}\")\n"
   ]
  },
  {
   "cell_type": "code",
   "execution_count": null,
   "id": "bc9388c7",
   "metadata": {},
   "outputs": [
    {
     "name": "stdout",
     "output_type": "stream",
     "text": [
      "Operadores ineficaces únicos: 739\n",
      "Operadores totales: 1092\n",
      "Porcentaje: 67.67%\n"
     ]
    }
   ],
   "source": [
    "# Ineffective operators (at least 1 day)\n",
    "ineficaces_unicos = df_operadores.loc[df_operadores[\"ineficaz\"], \"operator_id\"].nunique()\n",
    "\n",
    "# Total operators\n",
    "operadores_totales = df_operadores[\"operator_id\"].nunique()\n",
    "\n",
    "# Percentage\n",
    "porcentaje = (ineficaces_unicos / operadores_totales) * 100\n",
    "\n",
    "print(f\"Inefficient single operators: {ineficaces_unicos}\")\n",
    "print(f\"Total operators: {operadores_totales}\")\n",
    "print(f\"Percentage: {porcentaje:.2f}%\")"
   ]
  },
  {
   "cell_type": "markdown",
   "id": "37650b08",
   "metadata": {},
   "source": [
    "67.67% of operators lose 10% of their calls."
   ]
  },
  {
   "cell_type": "code",
   "execution_count": 19,
   "id": "38c367b5",
   "metadata": {},
   "outputs": [
    {
     "name": "stdout",
     "output_type": "stream",
     "text": [
      "             total_llamadas  total_perdidas  missed_call_rate  ineficaz\n",
      "operator_id                                                            \n",
      "885876.0              66049             135          0.002044      True\n",
      "891410.0               3773             131          0.034720      True\n",
      "893804.0               6570             130          0.019787      True\n",
      "901880.0               4655             128          0.027497      True\n",
      "891414.0               3374             126          0.037344      True\n",
      "901884.0               2846             115          0.040408      True\n",
      "885890.0              66016             110          0.001666      True\n",
      "887276.0               1421             101          0.071077      True\n",
      "879898.0               7974             100          0.012541      True\n",
      "905538.0               3843              99          0.025761      True\n"
     ]
    }
   ],
   "source": [
    "resumen = df_operadores.groupby(\"operator_id\").agg(\n",
    "    total_llamadas=(\"calls_count\", \"sum\"),\n",
    "    total_perdidas=(\"is_missed_call\", \"sum\")\n",
    ")\n",
    "\n",
    "resumen[\"missed_call_rate\"] = resumen[\"total_perdidas\"] / resumen[\"total_llamadas\"]\n",
    "\n",
    "# Clasificar como ineficaz en promedio\n",
    "resumen[\"ineficaz\"] = (resumen[\"missed_call_rate\"] > 0.10) | (resumen[\"total_perdidas\"] > 10)\n",
    "\n",
    "print(resumen.sort_values(\"total_perdidas\", ascending=False).head(10))"
   ]
  },
  {
   "cell_type": "markdown",
   "id": "1013b8da",
   "metadata": {},
   "source": [
    "We can see that the operator with the most missed calls also receives the most calls. However, there is another group of operators that still loses a large volume of calls while receiving fewer incoming calls."
   ]
  },
  {
   "cell_type": "code",
   "execution_count": null,
   "id": "f00bc7df",
   "metadata": {},
   "outputs": [],
   "source": [
    "def clasificar(row):\n",
    "    # Very ineffective: very high loss rate or large absolute losses on low volume\n",
    "    if row[\"missed_call_rate\"] > 0.10 or (row[\"total_perdidas\"] > 50 and row[\"total_llamadas\"] < 2000):\n",
    "        return \"Muy ineficaz\"\n",
    "    \n",
    "    # Risk: Moderate loss rate or significant absolute losses\n",
    "    elif row[\"missed_call_rate\"] > 0.05 or row[\"total_perdidas\"] > 20:\n",
    "        return \"Riesgo\"\n",
    "    \n",
    "    # If you do not fall into the above cases, it is effective\n",
    "    else:\n",
    "        return \"Eficaz\"\n",
    "\n",
    "resumen[\"categoria\"] = resumen.apply(clasificar, axis=1)"
   ]
  },
  {
   "cell_type": "code",
   "execution_count": 21,
   "id": "f7ca5306",
   "metadata": {},
   "outputs": [
    {
     "data": {
      "text/html": [
       "<div>\n",
       "<style scoped>\n",
       "    .dataframe tbody tr th:only-of-type {\n",
       "        vertical-align: middle;\n",
       "    }\n",
       "\n",
       "    .dataframe tbody tr th {\n",
       "        vertical-align: top;\n",
       "    }\n",
       "\n",
       "    .dataframe thead th {\n",
       "        text-align: right;\n",
       "    }\n",
       "</style>\n",
       "<table border=\"1\" class=\"dataframe\">\n",
       "  <thead>\n",
       "    <tr style=\"text-align: right;\">\n",
       "      <th></th>\n",
       "      <th>total_llamadas</th>\n",
       "      <th>total_perdidas</th>\n",
       "      <th>missed_call_rate</th>\n",
       "      <th>ineficaz</th>\n",
       "      <th>categoria</th>\n",
       "    </tr>\n",
       "    <tr>\n",
       "      <th>operator_id</th>\n",
       "      <th></th>\n",
       "      <th></th>\n",
       "      <th></th>\n",
       "      <th></th>\n",
       "      <th></th>\n",
       "    </tr>\n",
       "  </thead>\n",
       "  <tbody>\n",
       "    <tr>\n",
       "      <th>879896.0</th>\n",
       "      <td>1131</td>\n",
       "      <td>50</td>\n",
       "      <td>0.044209</td>\n",
       "      <td>True</td>\n",
       "      <td>Riesgo</td>\n",
       "    </tr>\n",
       "    <tr>\n",
       "      <th>879898.0</th>\n",
       "      <td>7974</td>\n",
       "      <td>100</td>\n",
       "      <td>0.012541</td>\n",
       "      <td>True</td>\n",
       "      <td>Riesgo</td>\n",
       "    </tr>\n",
       "    <tr>\n",
       "      <th>880020.0</th>\n",
       "      <td>54</td>\n",
       "      <td>7</td>\n",
       "      <td>0.129630</td>\n",
       "      <td>True</td>\n",
       "      <td>Muy ineficaz</td>\n",
       "    </tr>\n",
       "    <tr>\n",
       "      <th>880022.0</th>\n",
       "      <td>219</td>\n",
       "      <td>33</td>\n",
       "      <td>0.150685</td>\n",
       "      <td>True</td>\n",
       "      <td>Muy ineficaz</td>\n",
       "    </tr>\n",
       "    <tr>\n",
       "      <th>880026.0</th>\n",
       "      <td>2439</td>\n",
       "      <td>94</td>\n",
       "      <td>0.038540</td>\n",
       "      <td>True</td>\n",
       "      <td>Riesgo</td>\n",
       "    </tr>\n",
       "  </tbody>\n",
       "</table>\n",
       "</div>"
      ],
      "text/plain": [
       "             total_llamadas  total_perdidas  missed_call_rate  ineficaz  \\\n",
       "operator_id                                                               \n",
       "879896.0               1131              50          0.044209      True   \n",
       "879898.0               7974             100          0.012541      True   \n",
       "880020.0                 54               7          0.129630      True   \n",
       "880022.0                219              33          0.150685      True   \n",
       "880026.0               2439              94          0.038540      True   \n",
       "\n",
       "                categoria  \n",
       "operator_id                \n",
       "879896.0           Riesgo  \n",
       "879898.0           Riesgo  \n",
       "880020.0     Muy ineficaz  \n",
       "880022.0     Muy ineficaz  \n",
       "880026.0           Riesgo  "
      ]
     },
     "execution_count": 21,
     "metadata": {},
     "output_type": "execute_result"
    }
   ],
   "source": [
    "resumen.head()"
   ]
  },
  {
   "cell_type": "code",
   "execution_count": 22,
   "id": "6e4734d9",
   "metadata": {},
   "outputs": [
    {
     "name": "stdout",
     "output_type": "stream",
     "text": [
      "categoria\n",
      "False    741\n",
      "True     351\n",
      "Name: count, dtype: int64\n"
     ]
    }
   ],
   "source": [
    "print((resumen [\"categoria\"] == \"Muy ineficaz\").value_counts())"
   ]
  },
  {
   "cell_type": "code",
   "execution_count": 32,
   "id": "e60cfb3d",
   "metadata": {},
   "outputs": [
    {
     "name": "stdout",
     "output_type": "stream",
     "text": [
      "operator_id\n",
      "909892.0     True\n",
      "914870.0     True\n",
      "914816.0     True\n",
      "914636.0     True\n",
      "914630.0     True\n",
      "            ...  \n",
      "919464.0    False\n",
      "919476.0    False\n",
      "919482.0    False\n",
      "919490.0    False\n",
      "973286.0    False\n",
      "Name: categoria, Length: 1092, dtype: bool\n"
     ]
    }
   ],
   "source": [
    "print((resumen [\"categoria\"] == \"Muy ineficaz\").sort_values(ascending=False))"
   ]
  },
  {
   "cell_type": "code",
   "execution_count": null,
   "id": "c4d5b1ac",
   "metadata": {},
   "outputs": [
    {
     "data": {
      "image/png": "[encoded data removed]",
      "text/plain": [
       "<Figure size 600x600 with 1 Axes>"
      ]
     },
     "metadata": {},
     "output_type": "display_data"
    }
   ],
   "source": [
    "import matplotlib.pyplot as plt\n",
    "\n",
    "# Count operators by category\n",
    "conteo_categorias = resumen[\"categoria\"].value_counts()\n",
    "\n",
    "# Pie chart\n",
    "plt.figure(figsize=(6,6))\n",
    "plt.pie(\n",
    "    conteo_categorias,\n",
    "    labels=conteo_categorias.index,\n",
    "    autopct='%1.1f%%',\n",
    "    startangle=90,\n",
    "    colors=[\"#66b3ff\",\"#ff9999\",\"#99ff99\"]  # Colors for each category\n",
    ")\n",
    "plt.title(\"Distribution of operators by category\")\n",
    "plt.show()"
   ]
  },
  {
   "cell_type": "markdown",
   "id": "5f6e3a4c",
   "metadata": {},
   "source": [
    "A total of 351 highly ineffective operators were identified, considering the percentage of incoming calls and the total number of missed calls. This group represents 32.1% of the total number of operators.\n",
    "Additionally, there is a second group that, while not completely ineffective, is at risk of becoming so. This segment would benefit from training and follow-up programs to improve their productivity and prevent further deterioration in their performance."
   ]
  },
  {
   "cell_type": "markdown",
   "id": "9293fe1f",
   "metadata": {},
   "source": [
    "# Hypothesis"
   ]
  },
  {
   "cell_type": "markdown",
   "id": "74bc1dd6",
   "metadata": {},
   "source": [
    "#### Normality of the sample"
   ]
  },
  {
   "cell_type": "code",
   "execution_count": null,
   "id": "2ff9f332",
   "metadata": {},
   "outputs": [
    {
     "name": "stdout",
     "output_type": "stream",
     "text": [
      "Statistic=0.707, p=0.000\n",
      "Datos no normales\n"
     ]
    }
   ],
   "source": [
    "from scipy.stats import shapiro\n",
    "\n",
    "stat, p = shapiro(resumen[\"total_perdidas\"])  \n",
    "print(\"Statistic=%.3f, p=%.3f\" % (stat, p))\n",
    "\n",
    "if p > 0.05:\n",
    "    print(\"Normal data\")\n",
    "else:\n",
    "    print(\"Non-normal data\")"
   ]
  },
  {
   "cell_type": "code",
   "execution_count": null,
   "id": "4d72405f",
   "metadata": {},
   "outputs": [
    {
     "name": "stdout",
     "output_type": "stream",
     "text": [
      "Statistic=0.163, p=0.000\n",
      "Datos no normales\n"
     ]
    }
   ],
   "source": [
    "stat, p = shapiro(resumen[\"total_llamadas\"])  \n",
    "print(\"Statistic=%.3f, p=%.3f\" % (stat, p))\n",
    "\n",
    "if p > 0.05:\n",
    "    print(\"Normal data\")\n",
    "else:\n",
    "    print(\"Non-Normal dara\")"
   ]
  },
  {
   "cell_type": "markdown",
   "id": "ff23d019",
   "metadata": {},
   "source": [
    "### Hypothesis 1"
   ]
  },
  {
   "cell_type": "markdown",
   "id": "a46b9b82",
   "metadata": {},
   "source": [
    "Operators with a higher number of missed incoming calls have a significantly higher ineffectiveness rate than those with fewer missed calls."
   ]
  },
  {
   "cell_type": "markdown",
   "id": "70d5c3d6",
   "metadata": {},
   "source": [
    "H₀ (null): There is no significant difference in the ineffectiveness rate between operators with many missed calls and those with few.\n",
    "\n",
    "H₁ (alternative): Operators with many missed calls have a significantly higher ineffectiveness rate."
   ]
  },
  {
   "cell_type": "code",
   "execution_count": null,
   "id": "4396e0ab",
   "metadata": {},
   "outputs": [
    {
     "name": "stdout",
     "output_type": "stream",
     "text": [
      "Media Alta: 0.06489146619883225 Media Baja: 0.133457512608467\n",
      "Estadístico U: 159886.5\n",
      "p-valor: 0.032441198223380506\n",
      "Rechazamos H0: hay diferencia significativa en la tasa de ineficacia entre los grupos.\n"
     ]
    }
   ],
   "source": [
    "from scipy.stats import ttest_ind, mannwhitneyu\n",
    "\n",
    "# We created the column to divide into groups according to the median number of missed calls\n",
    "mediana_perdidas = resumen[\"total_perdidas\"].median()\n",
    "resumen[\"grupo_perdidas\"] = resumen[\"total_perdidas\"].apply(lambda x: \"Alta\" if x > mediana_perdidas else \"Baja\")\n",
    "\n",
    "# We separate the groups\n",
    "alta = resumen[resumen[\"grupo_perdidas\"] == \"Alta\"][\"missed_call_rate\"]\n",
    "baja = resumen[resumen[\"grupo_perdidas\"] == \"Baja\"][\"missed_call_rate\"]\n",
    "\n",
    "# Quick normality test to decide the test (optional)\n",
    "print(\"Media Alta:\", alta.mean(), \"Media Baja:\", baja.mean())\n",
    "\n",
    "# Nonparametric test Mann-Whitney U (recommended if normality is unknown)\n",
    "stat, p = mannwhitneyu(alta, baja, alternative='two-sided')\n",
    "print(\"Estadístico U:\", stat)\n",
    "print(\"p-valor:\", p)\n",
    "\n",
    "# Interpretation\n",
    "if p < 0.05:\n",
    "    print(\"We reject H0: there is a significant difference in the failure rate between the groups.\")\n",
    "else:\n",
    "    print(\"We do not reject H0: there is no significant difference between the groups.\")"
   ]
  },
  {
   "cell_type": "code",
   "execution_count": null,
   "id": "f521a453",
   "metadata": {},
   "outputs": [
    {
     "name": "stderr",
     "output_type": "stream",
     "text": [
      "C:\\Users\\alast\\AppData\\Local\\Temp\\ipykernel_22204\\3230084237.py:3: FutureWarning: \n",
      "\n",
      "Passing `palette` without assigning `hue` is deprecated and will be removed in v0.14.0. Assign the `x` variable to `hue` and set `legend=False` for the same effect.\n",
      "\n",
      "  sns.boxplot(x=\"grupo_perdidas\", y=\"missed_call_rate\", data=resumen, palette=\"Set2\")\n"
     ]
    },
    {
     "data": {
      "image/png": "[encoded data removed]",
      "text/plain": [
       "<Figure size 800x500 with 1 Axes>"
      ]
     },
     "metadata": {},
     "output_type": "display_data"
    }
   ],
   "source": [
    "import seaborn as sns\n",
    "plt.figure(figsize=(8,5))\n",
    "sns.boxplot(x=\"grupo_perdidas\", y=\"missed_call_rate\", data=resumen, palette=\"Set2\")\n",
    "plt.title(\"Distribution of missed call rate by total missed call group\")\n",
    "plt.xlabel(\"Missed call group\")\n",
    "plt.ylabel(\"Missed call rate\")\n",
    "plt.show()"
   ]
  },
  {
   "cell_type": "markdown",
   "id": "cd08a1b3",
   "metadata": {},
   "source": [
    "A total of 351 highly ineffective operators were identified in terms of the percentage of incoming calls and lost calls, representing 32.1% of the total. This finding allows us to reject H0 and accept H1, confirming the existence of a significant group of low-performing operators. Furthermore, another group of operators at risk of ineffectiveness was identified, who could improve with targeted training."
   ]
  },
  {
   "cell_type": "markdown",
   "id": "fcc01339",
   "metadata": {},
   "source": [
    "### Hypothesis 2"
   ]
  },
  {
   "cell_type": "markdown",
   "id": "115b83f2",
   "metadata": {},
   "source": [
    "H0: There is no significant difference in the missed call rate between operators with high and low incoming call volumes.\n",
    "\n",
    "H1: There is a significant difference."
   ]
  },
  {
   "cell_type": "code",
   "execution_count": null,
   "id": "602c12b5",
   "metadata": {},
   "outputs": [
    {
     "name": "stdout",
     "output_type": "stream",
     "text": [
      "Media Alta Llamadas: 0.04836503970131468 Media Baja Llamadas: 0.15287225241628052\n",
      "Estadístico U: 131069.5\n",
      "p-valor: 0.0005292654466442417\n",
      "Rechazamos H0: hay diferencia significativa en la tasa de ineficacia según el volumen de llamadas.\n"
     ]
    }
   ],
   "source": [
    "from scipy.stats import mannwhitneyu\n",
    "\n",
    "# We divide operators based on the median number of incoming calls\n",
    "mediana_llamadas = resumen[\"total_llamadas\"].median()\n",
    "resumen[\"grupo_llamadas\"] = resumen[\"total_llamadas\"].apply(lambda x: \"Alta\" if x > mediana_llamadas else \"Baja\")\n",
    "\n",
    "# We separate the groups\n",
    "alta_llamadas = resumen[resumen[\"grupo_llamadas\"] == \"Alta\"][\"missed_call_rate\"]\n",
    "baja_llamadas = resumen[resumen[\"grupo_llamadas\"] == \"Baja\"][\"missed_call_rate\"]\n",
    "\n",
    "# Comparison means\n",
    "print(\"Media Alta Llamadas:\", alta_llamadas.mean(), \"Media Baja Llamadas:\", baja_llamadas.mean())\n",
    "\n",
    "# Mann-Whitney U statistical test\n",
    "stat, p = mannwhitneyu(alta_llamadas, baja_llamadas, alternative='two-sided')\n",
    "print(\"Estadístico U:\", stat)\n",
    "print(\"p-valor:\", p)\n",
    "\n",
    "# Interpretation\n",
    "if p < 0.05:\n",
    "    print(\"We reject H0: there is a significant difference in the ineffectiveness rate based on call volume.\")\n",
    "else:\n",
    "    print(\"H0 is not rejected: there is no significant difference in the ineffectiveness rate between groups.\")"
   ]
  },
  {
   "cell_type": "code",
   "execution_count": null,
   "id": "886ce8b1",
   "metadata": {},
   "outputs": [
    {
     "name": "stderr",
     "output_type": "stream",
     "text": [
      "C:\\Users\\alast\\AppData\\Local\\Temp\\ipykernel_22204\\4233270115.py:2: FutureWarning: \n",
      "\n",
      "Passing `palette` without assigning `hue` is deprecated and will be removed in v0.14.0. Assign the `x` variable to `hue` and set `legend=False` for the same effect.\n",
      "\n",
      "  sns.violinplot(x=\"grupo_llamadas\", y=\"missed_call_rate\", data=resumen, palette=\"Set3\")\n"
     ]
    },
    {
     "data": {
      "image/png": "[encoded data removed]",
      "text/plain": [
       "<Figure size 800x600 with 1 Axes>"
      ]
     },
     "metadata": {},
     "output_type": "display_data"
    }
   ],
   "source": [
    "plt.figure(figsize=(8,6))\n",
    "sns.violinplot(x=\"grupo_llamadas\", y=\"missed_call_rate\", data=resumen, palette=\"Set3\")\n",
    "plt.title(\"Distribution of missed call rate by call volume\")\n",
    "plt.xlabel(\"Call group\")\n",
    "plt.ylabel(\"Missed call rate\")\n",
    "plt.show()"
   ]
  },
  {
   "cell_type": "code",
   "execution_count": null,
   "id": "ea14a960",
   "metadata": {},
   "outputs": [
    {
     "name": "stderr",
     "output_type": "stream",
     "text": [
      "C:\\Users\\alast\\AppData\\Local\\Temp\\ipykernel_22204\\1773431982.py:3: FutureWarning: \n",
      "\n",
      "Passing `palette` without assigning `hue` is deprecated and will be removed in v0.14.0. Assign the `x` variable to `hue` and set `legend=False` for the same effect.\n",
      "\n",
      "  sns.boxplot(x=\"grupo_llamadas\", y=\"missed_call_rate\", data=resumen, palette=\"Set2\")\n"
     ]
    },
    {
     "data": {
      "image/png": "[encoded data removed]",
      "text/plain": [
       "<Figure size 800x600 with 1 Axes>"
      ]
     },
     "metadata": {},
     "output_type": "display_data"
    }
   ],
   "source": [
    "# Boxplot\n",
    "plt.figure(figsize=(8,6))\n",
    "sns.boxplot(x=\"grupo_llamadas\", y=\"missed_call_rate\", data=resumen, palette=\"Set2\")\n",
    "plt.title(\"Distribution of missed call rate by call volume\")\n",
    "plt.xlabel(\"Call group\")\n",
    "plt.ylabel(\"Missed call rate\")\n",
    "plt.show()"
   ]
  },
  {
   "cell_type": "markdown",
   "id": "99d507a5",
   "metadata": {},
   "source": [
    "Statistical analysis (Mann-Whitney U) compared the ineffectiveness rate between operators with high and low call volumes. The results showed that the difference was statistically significant (p < 0.05), indicating that call volume influences the probability of ineffectiveness. This leads to rejecting H0 and accepting H1: operators with more incoming calls exhibit different ineffectiveness behavior compared to those with lower call volumes."
   ]
  },
  {
   "cell_type": "markdown",
   "id": "1473af32",
   "metadata": {},
   "source": [
    "## Conclusión"
   ]
  },
  {
   "cell_type": "markdown",
   "id": "968c1e53",
   "metadata": {},
   "source": [
    "The analysis confirms that there is a significant group of highly ineffective operators (32.1% of the total), which represents a direct risk to service productivity. Furthermore, it was found that the volume of incoming calls significantly influences the ineffectiveness rate, demonstrating that not all operators face the same performance conditions. Together, these findings highlight the need to implement differentiated strategies: immediate corrective interventions for highly ineffective operators and preventive training programs for those at risk, in order to improve overall efficiency and reduce losses."
   ]
  }
 ],
 "metadata": {
  "kernelspec": {
   "display_name": "venv (3.13.0)",
   "language": "python",
   "name": "python3"
  },
  "language_info": {
   "codemirror_mode": {
    "name": "ipython",
    "version": 3
   },
   "file_extension": ".py",
   "mimetype": "text/x-python",
   "name": "python",
   "nbconvert_exporter": "python",
   "pygments_lexer": "ipython3",
   "version": "3.13.0"
  }
 },
 "nbformat": 4,
 "nbformat_minor": 5
}
